{
  "cells": [
    {
      "cell_type": "markdown",
      "metadata": {
        "id": "view-in-github",
        "colab_type": "text"
      },
      "source": [
        "<a href=\"https://colab.research.google.com/github/dbruce6/ucb_voiceshield/blob/main/VoiceShield_Open_Source_detecting_ai_generated_speech_with_random_forests.ipynb\" target=\"_parent\"><img src=\"https://colab.research.google.com/assets/colab-badge.svg\" alt=\"Open In Colab\"/></a>"
      ]
    },
    {
      "cell_type": "markdown",
      "id": "b5003ee6",
      "metadata": {
        "papermill": {
          "duration": 0.005886,
          "end_time": "2023-08-24T14:02:49.562433",
          "exception": false,
          "start_time": "2023-08-24T14:02:49.556547",
          "status": "completed"
        },
        "tags": [],
        "id": "b5003ee6"
      },
      "source": [
        "# Demonstrating Audio\n",
        "A demonstration before we implement some machine learning.\n",
        "\n",
        "Let's first play two audio clips. First, the real audio from Linus Sebastian. Second, the DeepFake conversion of this audio to Elon Musk.\n",
        "\n",
        "**Compression:** Since the audio files are quite large and crash Kaggle notebooks, I have uploaded compressed versions of these files for use here.\n",
        "\n",
        "**Note:** It is important not to use the files in the \"DEMONSTRATION\" directory for your experiments"
      ]
    },
    {
      "cell_type": "code",
      "execution_count": 9,
      "id": "1a3b41f7",
      "metadata": {
        "execution": {
          "iopub.execute_input": "2023-08-24T14:02:49.575111Z",
          "iopub.status.busy": "2023-08-24T14:02:49.574729Z",
          "iopub.status.idle": "2023-08-24T14:02:49.586648Z",
          "shell.execute_reply": "2023-08-24T14:02:49.585545Z"
        },
        "papermill": {
          "duration": 0.021167,
          "end_time": "2023-08-24T14:02:49.589065",
          "exception": false,
          "start_time": "2023-08-24T14:02:49.567898",
          "status": "completed"
        },
        "tags": [],
        "id": "1a3b41f7",
        "colab": {
          "base_uri": "https://localhost:8080/",
          "height": 533
        },
        "outputId": "7259e7ce-d70c-41a9-b934-df7d6cee2dc7"
      },
      "outputs": [
        {
          "output_type": "stream",
          "name": "stderr",
          "text": [
            "<ipython-input-9-c1df9d2b5a55>:8: UserWarning: PySoundFile failed. Trying audioread instead.\n",
            "  real_audio, _ = librosa.load('/content/drive/My Drive/linus-to-musk-DEMO.mp3')\n"
          ]
        },
        {
          "output_type": "error",
          "ename": "FileNotFoundError",
          "evalue": "[Errno 2] No such file or directory: '/content/drive/My Drive/linus-to-musk-DEMO.mp3'",
          "traceback": [
            "\u001b[0;31m---------------------------------------------------------------------------\u001b[0m",
            "\u001b[0;31mLibsndfileError\u001b[0m                           Traceback (most recent call last)",
            "\u001b[0;32m/usr/local/lib/python3.10/dist-packages/librosa/core/audio.py\u001b[0m in \u001b[0;36mload\u001b[0;34m(path, sr, mono, offset, duration, dtype, res_type)\u001b[0m\n\u001b[1;32m    174\u001b[0m         \u001b[0;32mtry\u001b[0m\u001b[0;34m:\u001b[0m\u001b[0;34m\u001b[0m\u001b[0;34m\u001b[0m\u001b[0m\n\u001b[0;32m--> 175\u001b[0;31m             \u001b[0my\u001b[0m\u001b[0;34m,\u001b[0m \u001b[0msr_native\u001b[0m \u001b[0;34m=\u001b[0m \u001b[0m__soundfile_load\u001b[0m\u001b[0;34m(\u001b[0m\u001b[0mpath\u001b[0m\u001b[0;34m,\u001b[0m \u001b[0moffset\u001b[0m\u001b[0;34m,\u001b[0m \u001b[0mduration\u001b[0m\u001b[0;34m,\u001b[0m \u001b[0mdtype\u001b[0m\u001b[0;34m)\u001b[0m\u001b[0;34m\u001b[0m\u001b[0;34m\u001b[0m\u001b[0m\n\u001b[0m\u001b[1;32m    176\u001b[0m \u001b[0;34m\u001b[0m\u001b[0m\n",
            "\u001b[0;32m/usr/local/lib/python3.10/dist-packages/librosa/core/audio.py\u001b[0m in \u001b[0;36m__soundfile_load\u001b[0;34m(path, offset, duration, dtype)\u001b[0m\n\u001b[1;32m    207\u001b[0m         \u001b[0;31m# Otherwise, create the soundfile object\u001b[0m\u001b[0;34m\u001b[0m\u001b[0;34m\u001b[0m\u001b[0m\n\u001b[0;32m--> 208\u001b[0;31m         \u001b[0mcontext\u001b[0m \u001b[0;34m=\u001b[0m \u001b[0msf\u001b[0m\u001b[0;34m.\u001b[0m\u001b[0mSoundFile\u001b[0m\u001b[0;34m(\u001b[0m\u001b[0mpath\u001b[0m\u001b[0;34m)\u001b[0m\u001b[0;34m\u001b[0m\u001b[0;34m\u001b[0m\u001b[0m\n\u001b[0m\u001b[1;32m    209\u001b[0m \u001b[0;34m\u001b[0m\u001b[0m\n",
            "\u001b[0;32m/usr/local/lib/python3.10/dist-packages/soundfile.py\u001b[0m in \u001b[0;36m__init__\u001b[0;34m(self, file, mode, samplerate, channels, subtype, endian, format, closefd)\u001b[0m\n\u001b[1;32m    657\u001b[0m                                          format, subtype, endian)\n\u001b[0;32m--> 658\u001b[0;31m         \u001b[0mself\u001b[0m\u001b[0;34m.\u001b[0m\u001b[0m_file\u001b[0m \u001b[0;34m=\u001b[0m \u001b[0mself\u001b[0m\u001b[0;34m.\u001b[0m\u001b[0m_open\u001b[0m\u001b[0;34m(\u001b[0m\u001b[0mfile\u001b[0m\u001b[0;34m,\u001b[0m \u001b[0mmode_int\u001b[0m\u001b[0;34m,\u001b[0m \u001b[0mclosefd\u001b[0m\u001b[0;34m)\u001b[0m\u001b[0;34m\u001b[0m\u001b[0;34m\u001b[0m\u001b[0m\n\u001b[0m\u001b[1;32m    659\u001b[0m         \u001b[0;32mif\u001b[0m \u001b[0mset\u001b[0m\u001b[0;34m(\u001b[0m\u001b[0mmode\u001b[0m\u001b[0;34m)\u001b[0m\u001b[0;34m.\u001b[0m\u001b[0missuperset\u001b[0m\u001b[0;34m(\u001b[0m\u001b[0;34m'r+'\u001b[0m\u001b[0;34m)\u001b[0m \u001b[0;32mand\u001b[0m \u001b[0mself\u001b[0m\u001b[0;34m.\u001b[0m\u001b[0mseekable\u001b[0m\u001b[0;34m(\u001b[0m\u001b[0;34m)\u001b[0m\u001b[0;34m:\u001b[0m\u001b[0;34m\u001b[0m\u001b[0;34m\u001b[0m\u001b[0m\n",
            "\u001b[0;32m/usr/local/lib/python3.10/dist-packages/soundfile.py\u001b[0m in \u001b[0;36m_open\u001b[0;34m(self, file, mode_int, closefd)\u001b[0m\n\u001b[1;32m   1215\u001b[0m             \u001b[0merr\u001b[0m \u001b[0;34m=\u001b[0m \u001b[0m_snd\u001b[0m\u001b[0;34m.\u001b[0m\u001b[0msf_error\u001b[0m\u001b[0;34m(\u001b[0m\u001b[0mfile_ptr\u001b[0m\u001b[0;34m)\u001b[0m\u001b[0;34m\u001b[0m\u001b[0;34m\u001b[0m\u001b[0m\n\u001b[0;32m-> 1216\u001b[0;31m             \u001b[0;32mraise\u001b[0m \u001b[0mLibsndfileError\u001b[0m\u001b[0;34m(\u001b[0m\u001b[0merr\u001b[0m\u001b[0;34m,\u001b[0m \u001b[0mprefix\u001b[0m\u001b[0;34m=\u001b[0m\u001b[0;34m\"Error opening {0!r}: \"\u001b[0m\u001b[0;34m.\u001b[0m\u001b[0mformat\u001b[0m\u001b[0;34m(\u001b[0m\u001b[0mself\u001b[0m\u001b[0;34m.\u001b[0m\u001b[0mname\u001b[0m\u001b[0;34m)\u001b[0m\u001b[0;34m)\u001b[0m\u001b[0;34m\u001b[0m\u001b[0;34m\u001b[0m\u001b[0m\n\u001b[0m\u001b[1;32m   1217\u001b[0m         \u001b[0;32mif\u001b[0m \u001b[0mmode_int\u001b[0m \u001b[0;34m==\u001b[0m \u001b[0m_snd\u001b[0m\u001b[0;34m.\u001b[0m\u001b[0mSFM_WRITE\u001b[0m\u001b[0;34m:\u001b[0m\u001b[0;34m\u001b[0m\u001b[0;34m\u001b[0m\u001b[0m\n",
            "\u001b[0;31mLibsndfileError\u001b[0m: Error opening '/content/drive/My Drive/linus-to-musk-DEMO.mp3': System error.",
            "\nDuring handling of the above exception, another exception occurred:\n",
            "\u001b[0;31mFileNotFoundError\u001b[0m                         Traceback (most recent call last)",
            "\u001b[0;32m<ipython-input-9-c1df9d2b5a55>\u001b[0m in \u001b[0;36m<cell line: 8>\u001b[0;34m()\u001b[0m\n\u001b[1;32m      6\u001b[0m \u001b[0;31m##fake_audio_path = \"/content/drive/My Drive/YourFolder/linus-to-musk-DEMO.mp3\"\u001b[0m\u001b[0;34m\u001b[0m\u001b[0;34m\u001b[0m\u001b[0m\n\u001b[1;32m      7\u001b[0m \u001b[0;34m\u001b[0m\u001b[0m\n\u001b[0;32m----> 8\u001b[0;31m \u001b[0mreal_audio\u001b[0m\u001b[0;34m,\u001b[0m \u001b[0m_\u001b[0m \u001b[0;34m=\u001b[0m \u001b[0mlibrosa\u001b[0m\u001b[0;34m.\u001b[0m\u001b[0mload\u001b[0m\u001b[0;34m(\u001b[0m\u001b[0;34m'/content/drive/My Drive/linus-to-musk-DEMO.mp3'\u001b[0m\u001b[0;34m)\u001b[0m\u001b[0;34m\u001b[0m\u001b[0;34m\u001b[0m\u001b[0m\n\u001b[0m\u001b[1;32m      9\u001b[0m \u001b[0mfake_audio\u001b[0m\u001b[0;34m,\u001b[0m \u001b[0m_\u001b[0m \u001b[0;34m=\u001b[0m \u001b[0mlibrosa\u001b[0m\u001b[0;34m.\u001b[0m\u001b[0mload\u001b[0m\u001b[0;34m(\u001b[0m\u001b[0;34m\"/content/drive/My Drive/Capstone/data/DEMONSTRATION/DEMONSTRATION/linus-to-musk-DEMO.mp3\"\u001b[0m\u001b[0;34m,\u001b[0m \u001b[0msr\u001b[0m\u001b[0;34m=\u001b[0m\u001b[0;32mNone\u001b[0m\u001b[0;34m)\u001b[0m\u001b[0;34m\u001b[0m\u001b[0;34m\u001b[0m\u001b[0m\n",
            "\u001b[0;32m/usr/local/lib/python3.10/dist-packages/librosa/core/audio.py\u001b[0m in \u001b[0;36mload\u001b[0;34m(path, sr, mono, offset, duration, dtype, res_type)\u001b[0m\n\u001b[1;32m    181\u001b[0m                     \u001b[0;34m\"PySoundFile failed. Trying audioread instead.\"\u001b[0m\u001b[0;34m,\u001b[0m \u001b[0mstacklevel\u001b[0m\u001b[0;34m=\u001b[0m\u001b[0;36m2\u001b[0m\u001b[0;34m\u001b[0m\u001b[0;34m\u001b[0m\u001b[0m\n\u001b[1;32m    182\u001b[0m                 )\n\u001b[0;32m--> 183\u001b[0;31m                 \u001b[0my\u001b[0m\u001b[0;34m,\u001b[0m \u001b[0msr_native\u001b[0m \u001b[0;34m=\u001b[0m \u001b[0m__audioread_load\u001b[0m\u001b[0;34m(\u001b[0m\u001b[0mpath\u001b[0m\u001b[0;34m,\u001b[0m \u001b[0moffset\u001b[0m\u001b[0;34m,\u001b[0m \u001b[0mduration\u001b[0m\u001b[0;34m,\u001b[0m \u001b[0mdtype\u001b[0m\u001b[0;34m)\u001b[0m\u001b[0;34m\u001b[0m\u001b[0;34m\u001b[0m\u001b[0m\n\u001b[0m\u001b[1;32m    184\u001b[0m             \u001b[0;32melse\u001b[0m\u001b[0;34m:\u001b[0m\u001b[0;34m\u001b[0m\u001b[0;34m\u001b[0m\u001b[0m\n\u001b[1;32m    185\u001b[0m                 \u001b[0;32mraise\u001b[0m \u001b[0mexc\u001b[0m\u001b[0;34m\u001b[0m\u001b[0;34m\u001b[0m\u001b[0m\n",
            "\u001b[0;32m<decorator-gen-119>\u001b[0m in \u001b[0;36m__audioread_load\u001b[0;34m(path, offset, duration, dtype)\u001b[0m\n",
            "\u001b[0;32m/usr/local/lib/python3.10/dist-packages/librosa/util/decorators.py\u001b[0m in \u001b[0;36m__wrapper\u001b[0;34m(func, *args, **kwargs)\u001b[0m\n\u001b[1;32m     57\u001b[0m             \u001b[0mstacklevel\u001b[0m\u001b[0;34m=\u001b[0m\u001b[0;36m3\u001b[0m\u001b[0;34m,\u001b[0m  \u001b[0;31m# Would be 2, but the decorator adds a level\u001b[0m\u001b[0;34m\u001b[0m\u001b[0;34m\u001b[0m\u001b[0m\n\u001b[1;32m     58\u001b[0m         )\n\u001b[0;32m---> 59\u001b[0;31m         \u001b[0;32mreturn\u001b[0m \u001b[0mfunc\u001b[0m\u001b[0;34m(\u001b[0m\u001b[0;34m*\u001b[0m\u001b[0margs\u001b[0m\u001b[0;34m,\u001b[0m \u001b[0;34m**\u001b[0m\u001b[0mkwargs\u001b[0m\u001b[0;34m)\u001b[0m\u001b[0;34m\u001b[0m\u001b[0;34m\u001b[0m\u001b[0m\n\u001b[0m\u001b[1;32m     60\u001b[0m \u001b[0;34m\u001b[0m\u001b[0m\n\u001b[1;32m     61\u001b[0m     \u001b[0;32mreturn\u001b[0m \u001b[0mdecorator\u001b[0m\u001b[0;34m(\u001b[0m\u001b[0m__wrapper\u001b[0m\u001b[0;34m)\u001b[0m\u001b[0;34m\u001b[0m\u001b[0;34m\u001b[0m\u001b[0m\n",
            "\u001b[0;32m/usr/local/lib/python3.10/dist-packages/librosa/core/audio.py\u001b[0m in \u001b[0;36m__audioread_load\u001b[0;34m(path, offset, duration, dtype)\u001b[0m\n\u001b[1;32m    237\u001b[0m     \u001b[0;32melse\u001b[0m\u001b[0;34m:\u001b[0m\u001b[0;34m\u001b[0m\u001b[0;34m\u001b[0m\u001b[0m\n\u001b[1;32m    238\u001b[0m         \u001b[0;31m# If the input was not an audioread object, try to open it\u001b[0m\u001b[0;34m\u001b[0m\u001b[0;34m\u001b[0m\u001b[0m\n\u001b[0;32m--> 239\u001b[0;31m         \u001b[0mreader\u001b[0m \u001b[0;34m=\u001b[0m \u001b[0maudioread\u001b[0m\u001b[0;34m.\u001b[0m\u001b[0maudio_open\u001b[0m\u001b[0;34m(\u001b[0m\u001b[0mpath\u001b[0m\u001b[0;34m)\u001b[0m\u001b[0;34m\u001b[0m\u001b[0;34m\u001b[0m\u001b[0m\n\u001b[0m\u001b[1;32m    240\u001b[0m \u001b[0;34m\u001b[0m\u001b[0m\n\u001b[1;32m    241\u001b[0m     \u001b[0;32mwith\u001b[0m \u001b[0mreader\u001b[0m \u001b[0;32mas\u001b[0m \u001b[0minput_file\u001b[0m\u001b[0;34m:\u001b[0m\u001b[0;34m\u001b[0m\u001b[0;34m\u001b[0m\u001b[0m\n",
            "\u001b[0;32m/usr/local/lib/python3.10/dist-packages/audioread/__init__.py\u001b[0m in \u001b[0;36maudio_open\u001b[0;34m(path, backends)\u001b[0m\n\u001b[1;32m    125\u001b[0m     \u001b[0;32mfor\u001b[0m \u001b[0mBackendClass\u001b[0m \u001b[0;32min\u001b[0m \u001b[0mbackends\u001b[0m\u001b[0;34m:\u001b[0m\u001b[0;34m\u001b[0m\u001b[0;34m\u001b[0m\u001b[0m\n\u001b[1;32m    126\u001b[0m         \u001b[0;32mtry\u001b[0m\u001b[0;34m:\u001b[0m\u001b[0;34m\u001b[0m\u001b[0;34m\u001b[0m\u001b[0m\n\u001b[0;32m--> 127\u001b[0;31m             \u001b[0;32mreturn\u001b[0m \u001b[0mBackendClass\u001b[0m\u001b[0;34m(\u001b[0m\u001b[0mpath\u001b[0m\u001b[0;34m)\u001b[0m\u001b[0;34m\u001b[0m\u001b[0;34m\u001b[0m\u001b[0m\n\u001b[0m\u001b[1;32m    128\u001b[0m         \u001b[0;32mexcept\u001b[0m \u001b[0mDecodeError\u001b[0m\u001b[0;34m:\u001b[0m\u001b[0;34m\u001b[0m\u001b[0;34m\u001b[0m\u001b[0m\n\u001b[1;32m    129\u001b[0m             \u001b[0;32mpass\u001b[0m\u001b[0;34m\u001b[0m\u001b[0;34m\u001b[0m\u001b[0m\n",
            "\u001b[0;32m/usr/local/lib/python3.10/dist-packages/audioread/rawread.py\u001b[0m in \u001b[0;36m__init__\u001b[0;34m(self, filename)\u001b[0m\n\u001b[1;32m     57\u001b[0m     \"\"\"\n\u001b[1;32m     58\u001b[0m     \u001b[0;32mdef\u001b[0m \u001b[0m__init__\u001b[0m\u001b[0;34m(\u001b[0m\u001b[0mself\u001b[0m\u001b[0;34m,\u001b[0m \u001b[0mfilename\u001b[0m\u001b[0;34m)\u001b[0m\u001b[0;34m:\u001b[0m\u001b[0;34m\u001b[0m\u001b[0;34m\u001b[0m\u001b[0m\n\u001b[0;32m---> 59\u001b[0;31m         \u001b[0mself\u001b[0m\u001b[0;34m.\u001b[0m\u001b[0m_fh\u001b[0m \u001b[0;34m=\u001b[0m \u001b[0mopen\u001b[0m\u001b[0;34m(\u001b[0m\u001b[0mfilename\u001b[0m\u001b[0;34m,\u001b[0m \u001b[0;34m'rb'\u001b[0m\u001b[0;34m)\u001b[0m\u001b[0;34m\u001b[0m\u001b[0;34m\u001b[0m\u001b[0m\n\u001b[0m\u001b[1;32m     60\u001b[0m \u001b[0;34m\u001b[0m\u001b[0m\n\u001b[1;32m     61\u001b[0m         \u001b[0;32mtry\u001b[0m\u001b[0;34m:\u001b[0m\u001b[0;34m\u001b[0m\u001b[0;34m\u001b[0m\u001b[0m\n",
            "\u001b[0;31mFileNotFoundError\u001b[0m: [Errno 2] No such file or directory: '/content/drive/My Drive/linus-to-musk-DEMO.mp3'"
          ]
        }
      ],
      "source": [
        "import IPython\n",
        "import librosa\n",
        "from google.colab import drive\n",
        "\n",
        "##real_audio_path = \"/content/drive/My Drive/YourFolder/linus-original-DEMO.mp3\"\n",
        "##fake_audio_path = \"/content/drive/My Drive/YourFolder/linus-to-musk-DEMO.mp3\"\n",
        "\n",
        "real_audio, _ = librosa.load('/content/drive/My Drive/linus-to-musk-DEMO.mp3')\n",
        "fake_audio, _ = librosa.load(\"/content/drive/My Drive/Capstone/data/DEMONSTRATION/DEMONSTRATION/linus-to-musk-DEMO.mp3\", sr=None)"
      ]
    },
    {
      "cell_type": "markdown",
      "id": "058a321f",
      "metadata": {
        "papermill": {
          "duration": 0.005032,
          "end_time": "2023-08-24T14:02:49.599470",
          "exception": false,
          "start_time": "2023-08-24T14:02:49.594438",
          "status": "completed"
        },
        "tags": [],
        "id": "058a321f"
      },
      "source": [
        "## Real Audio:\n",
        "The audio clip below is real human speech."
      ]
    },
    {
      "cell_type": "code",
      "execution_count": null,
      "id": "1349a1ed",
      "metadata": {
        "execution": {
          "iopub.execute_input": "2023-08-24T14:02:49.611484Z",
          "iopub.status.busy": "2023-08-24T14:02:49.611079Z",
          "iopub.status.idle": "2023-08-24T14:02:49.685770Z",
          "shell.execute_reply": "2023-08-24T14:02:49.684860Z"
        },
        "papermill": {
          "duration": 0.108482,
          "end_time": "2023-08-24T14:02:49.713083",
          "exception": false,
          "start_time": "2023-08-24T14:02:49.604601",
          "status": "completed"
        },
        "tags": [],
        "id": "1349a1ed"
      },
      "outputs": [],
      "source": [
        "print(\"Real audio (Linus Sebastian):\")\n",
        "IPython.display.Audio(real_audio)"
      ]
    },
    {
      "cell_type": "markdown",
      "id": "3721dbb4",
      "metadata": {
        "papermill": {
          "duration": 0.025763,
          "end_time": "2023-08-24T14:02:49.763939",
          "exception": false,
          "start_time": "2023-08-24T14:02:49.738176",
          "status": "completed"
        },
        "tags": [],
        "id": "3721dbb4"
      },
      "source": [
        "## DeepFake Audio\n",
        "\n",
        "The audio clip below is the previous speech converted to Elon Musk via Retrieval-based Voice Conversion."
      ]
    },
    {
      "cell_type": "code",
      "execution_count": null,
      "id": "71836016",
      "metadata": {
        "execution": {
          "iopub.execute_input": "2023-08-24T14:02:49.818557Z",
          "iopub.status.busy": "2023-08-24T14:02:49.817794Z",
          "iopub.status.idle": "2023-08-24T14:02:49.903267Z",
          "shell.execute_reply": "2023-08-24T14:02:49.901765Z"
        },
        "papermill": {
          "duration": 0.133952,
          "end_time": "2023-08-24T14:02:49.923970",
          "exception": false,
          "start_time": "2023-08-24T14:02:49.790018",
          "status": "completed"
        },
        "tags": [],
        "id": "71836016"
      },
      "outputs": [],
      "source": [
        "print(\"DeepFake audio (Linus to Elon Musk):\")\n",
        "IPython.display.Audio(fake_audio)"
      ]
    },
    {
      "cell_type": "markdown",
      "id": "17fec043",
      "metadata": {
        "papermill": {
          "duration": 0.047574,
          "end_time": "2023-08-24T14:02:50.019561",
          "exception": false,
          "start_time": "2023-08-24T14:02:49.971987",
          "status": "completed"
        },
        "tags": [],
        "id": "17fec043"
      },
      "source": [
        "# Machine Learning Demonstration\n",
        "\n",
        "You may wish to use the audio files in the \"AUDIO\" directory for your own methods of feature extraction and preprocessing.\n",
        "\n",
        "Several audio features have already been extracted for you. These are found in the \"DATASET-balanced.csv\" file\n",
        "\n",
        "\n",
        "## Loading and preparing the data\n",
        "\n",
        "We will first load the CSV file and split into two dataframes. X will contain our features and y will contain the ground-truth labels."
      ]
    },
    {
      "cell_type": "code",
      "execution_count": null,
      "id": "e7b8ed4c",
      "metadata": {
        "execution": {
          "iopub.execute_input": "2023-08-24T14:02:50.129782Z",
          "iopub.status.busy": "2023-08-24T14:02:50.129330Z",
          "iopub.status.idle": "2023-08-24T14:02:50.306265Z",
          "shell.execute_reply": "2023-08-24T14:02:50.304207Z"
        },
        "papermill": {
          "duration": 0.232599,
          "end_time": "2023-08-24T14:02:50.308810",
          "exception": false,
          "start_time": "2023-08-24T14:02:50.076211",
          "status": "completed"
        },
        "tags": [],
        "id": "e7b8ed4c"
      },
      "outputs": [],
      "source": [
        "import pandas as pd\n",
        "\n",
        "df = pd.read_csv(\"/kaggle/input/deep-voice-deepfake-voice-recognition/KAGGLE/DATASET-balanced.csv\")\n",
        "\n",
        "X = df.iloc[:,:-1]\n",
        "y = df.iloc[:,-1]\n",
        "\n",
        "print(X.head(10))\n",
        "print(y.head(10))"
      ]
    },
    {
      "cell_type": "markdown",
      "id": "5c0f76ee",
      "metadata": {
        "papermill": {
          "duration": 0.04775,
          "end_time": "2023-08-24T14:02:50.404720",
          "exception": false,
          "start_time": "2023-08-24T14:02:50.356970",
          "status": "completed"
        },
        "tags": [],
        "id": "5c0f76ee"
      },
      "source": [
        "## Binarise the Labels for Binary Classification\n",
        "\n",
        "Most classifiers will automatically process our \"REAL\" and \"FAKE\" strings with one-hot encoding, but others may crash due to their implementation.\n",
        "\n",
        "In this code, we will create a label binariser before fitting and transforming it to our data. It will now be compatible with any Scikit model capable of binary classification."
      ]
    },
    {
      "cell_type": "code",
      "execution_count": null,
      "id": "56eb4c09",
      "metadata": {
        "execution": {
          "iopub.execute_input": "2023-08-24T14:02:50.515903Z",
          "iopub.status.busy": "2023-08-24T14:02:50.515485Z",
          "iopub.status.idle": "2023-08-24T14:02:51.782073Z",
          "shell.execute_reply": "2023-08-24T14:02:51.780450Z"
        },
        "papermill": {
          "duration": 1.324036,
          "end_time": "2023-08-24T14:02:51.784571",
          "exception": false,
          "start_time": "2023-08-24T14:02:50.460535",
          "status": "completed"
        },
        "tags": [],
        "id": "56eb4c09"
      },
      "outputs": [],
      "source": [
        "from sklearn import preprocessing\n",
        "lb = preprocessing.LabelBinarizer()\n",
        "lb.fit(y)\n",
        "y = lb.transform(y)\n",
        "y = y.ravel()\n",
        "print(y)"
      ]
    },
    {
      "cell_type": "markdown",
      "id": "798ce820",
      "metadata": {
        "papermill": {
          "duration": 0.049692,
          "end_time": "2023-08-24T14:02:51.885100",
          "exception": false,
          "start_time": "2023-08-24T14:02:51.835408",
          "status": "completed"
        },
        "tags": [],
        "id": "798ce820"
      },
      "source": [
        "## Prepare the model and K-Fold Cross Validation\n",
        "\n",
        "In this code, we first create a Random Forest classifier, a voting ensemble of 50 Random Decision Trees.\n",
        "\n",
        "Then, we create a KFold splitter for training over 5-fold cross validation."
      ]
    },
    {
      "cell_type": "code",
      "execution_count": null,
      "id": "74f0e71c",
      "metadata": {
        "execution": {
          "iopub.execute_input": "2023-08-24T14:02:51.984190Z",
          "iopub.status.busy": "2023-08-24T14:02:51.982975Z",
          "iopub.status.idle": "2023-08-24T14:02:52.533638Z",
          "shell.execute_reply": "2023-08-24T14:02:52.532446Z"
        },
        "papermill": {
          "duration": 0.602732,
          "end_time": "2023-08-24T14:02:52.536352",
          "exception": false,
          "start_time": "2023-08-24T14:02:51.933620",
          "status": "completed"
        },
        "tags": [],
        "id": "74f0e71c"
      },
      "outputs": [],
      "source": [
        "from sklearn.ensemble import RandomForestClassifier\n",
        "model = RandomForestClassifier(n_estimators=50, random_state=1)\n",
        "\n",
        "from sklearn.model_selection import KFold\n",
        "kf = KFold(n_splits=5,  shuffle=True, random_state=1)\n",
        "\n",
        "print(model)\n",
        "print(\"KFold splits: \" + str(kf.get_n_splits(X)))"
      ]
    },
    {
      "cell_type": "markdown",
      "id": "8588b922",
      "metadata": {
        "papermill": {
          "duration": 0.048832,
          "end_time": "2023-08-24T14:02:52.633703",
          "exception": false,
          "start_time": "2023-08-24T14:02:52.584871",
          "status": "completed"
        },
        "tags": [],
        "id": "8588b922"
      },
      "source": [
        "## Train Each Fold\n",
        "\n",
        "We will now train the model on each of the KFold splits. The training is timed, and all results are stored in their respective lists. Time taken is rounded to two decimal places for readability.\n",
        "\n",
        "In this example, we consider: Accuracy, Precision, Recall, F1-Score, Matthew's Correlation Coefficient (MCC), and Receiver Operating Characteristic (ROC) scores."
      ]
    },
    {
      "cell_type": "code",
      "execution_count": null,
      "id": "e40a3918",
      "metadata": {
        "execution": {
          "iopub.execute_input": "2023-08-24T14:02:52.734370Z",
          "iopub.status.busy": "2023-08-24T14:02:52.733932Z",
          "iopub.status.idle": "2023-08-24T14:03:05.965595Z",
          "shell.execute_reply": "2023-08-24T14:03:05.964327Z"
        },
        "papermill": {
          "duration": 13.285516,
          "end_time": "2023-08-24T14:03:05.968145",
          "exception": false,
          "start_time": "2023-08-24T14:02:52.682629",
          "status": "completed"
        },
        "tags": [],
        "id": "e40a3918"
      },
      "outputs": [],
      "source": [
        "import time\n",
        "\n",
        "import numpy as np\n",
        "\n",
        "from sklearn.metrics import accuracy_score, precision_score, recall_score, f1_score, matthews_corrcoef, roc_auc_score\n",
        "\n",
        "acc_score = []\n",
        "prec_score = []\n",
        "rec_score = []\n",
        "f1s = []\n",
        "MCCs = []\n",
        "ROCareas = []\n",
        "\n",
        "start = time.time()\n",
        "for train_index , test_index in kf.split(X):\n",
        "    X_train , X_test = X.iloc[train_index,:],X.iloc[test_index,:]\n",
        "    y_train , y_test = y[train_index] , y[test_index]\n",
        "\n",
        "    model.fit(X_train,y_train)\n",
        "    pred_values = model.predict(X_test)\n",
        "\n",
        "    acc = accuracy_score(pred_values , y_test)\n",
        "    acc_score.append(acc)\n",
        "\n",
        "    prec = precision_score(y_test , pred_values, average=\"binary\", pos_label=1)\n",
        "    prec_score.append(prec)\n",
        "\n",
        "    rec = recall_score(y_test , pred_values, average=\"binary\", pos_label=1)\n",
        "    rec_score.append(rec)\n",
        "\n",
        "    f1 = f1_score(y_test , pred_values, average=\"binary\", pos_label=1)\n",
        "    f1s.append(f1)\n",
        "\n",
        "    mcc = matthews_corrcoef(y_test , pred_values)\n",
        "    MCCs.append(mcc)\n",
        "\n",
        "    roc = roc_auc_score(y_test , pred_values)\n",
        "    ROCareas.append(roc)\n",
        "\n",
        "end = time.time()\n",
        "timeTaken = (end - start)\n",
        "print(\"Model trained in: \" + str( round(timeTaken, 2) ) + \" seconds.\")"
      ]
    },
    {
      "cell_type": "markdown",
      "id": "b8fe7fe1",
      "metadata": {
        "papermill": {
          "duration": 0.047814,
          "end_time": "2023-08-24T14:03:06.065053",
          "exception": false,
          "start_time": "2023-08-24T14:03:06.017239",
          "status": "completed"
        },
        "tags": [],
        "id": "b8fe7fe1"
      },
      "source": [
        "## Calculate the Mean Results and Standard Deviation\n",
        "\n",
        "For each metric, we have k number of results (where k is the number of splits in the KFold). To calculate the final results, we will now compute the means and standard deviations of each set of metrics.\n",
        "\n",
        "Each are rounded to three decimal places for readability."
      ]
    },
    {
      "cell_type": "code",
      "execution_count": null,
      "id": "905e0732",
      "metadata": {
        "execution": {
          "iopub.execute_input": "2023-08-24T14:03:06.162616Z",
          "iopub.status.busy": "2023-08-24T14:03:06.162153Z",
          "iopub.status.idle": "2023-08-24T14:03:06.174141Z",
          "shell.execute_reply": "2023-08-24T14:03:06.172727Z"
        },
        "papermill": {
          "duration": 0.064063,
          "end_time": "2023-08-24T14:03:06.176682",
          "exception": false,
          "start_time": "2023-08-24T14:03:06.112619",
          "status": "completed"
        },
        "tags": [],
        "id": "905e0732"
      },
      "outputs": [],
      "source": [
        "print(\"Mean results and (std.):\\n\")\n",
        "print(\"Accuracy: \" + str( round(np.mean(acc_score)*100, 3) ) + \"% (\" + str( round(np.std(acc_score)*100, 3) ) + \")\\n\")\n",
        "print(\"Precision: \" + str( round(np.mean(prec_score), 3) ) + \" (\" + str( round(np.std(prec_score), 3) ) + \")\")\n",
        "print(\"Recall: \" + str( round(np.mean(rec_score), 3) ) + \" (\" + str( round(np.std(rec_score), 3) ) + \")\")\n",
        "print(\"F1-Score: \" + str( round(np.mean(f1s), 3) ) + \" (\" + str( round(np.std(f1s), 3) ) + \")\")\n",
        "print(\"MCC: \" + str( round(np.mean(MCCs), 3) ) + \" (\" + str( round(np.std(MCCs), 3) ) + \")\")\n",
        "print(\"ROC AUC: \" + str( round(np.mean(ROCareas), 3) ) + \" (\" + str( round(np.std(ROCareas), 3) ) + \")\")"
      ]
    }
  ],
  "metadata": {
    "kernelspec": {
      "display_name": "Python 3",
      "language": "python",
      "name": "python3"
    },
    "language_info": {
      "codemirror_mode": {
        "name": "ipython",
        "version": 3
      },
      "file_extension": ".py",
      "mimetype": "text/x-python",
      "name": "python",
      "nbconvert_exporter": "python",
      "pygments_lexer": "ipython3",
      "version": "3.10.12"
    },
    "papermill": {
      "default_parameters": {},
      "duration": 29.067535,
      "end_time": "2023-08-24T14:03:07.250543",
      "environment_variables": {},
      "exception": null,
      "input_path": "__notebook__.ipynb",
      "output_path": "__notebook__.ipynb",
      "parameters": {},
      "start_time": "2023-08-24T14:02:38.183008",
      "version": "2.4.0"
    },
    "colab": {
      "provenance": [],
      "include_colab_link": true
    }
  },
  "nbformat": 4,
  "nbformat_minor": 5
}